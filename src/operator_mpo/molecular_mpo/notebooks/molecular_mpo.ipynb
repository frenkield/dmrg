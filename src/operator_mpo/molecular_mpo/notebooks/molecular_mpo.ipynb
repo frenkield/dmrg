{
 "cells": [
  {
   "cell_type": "code",
   "execution_count": 3,
   "id": "foster-perry",
   "metadata": {},
   "outputs": [
    {
     "name": "stdout",
     "output_type": "stream",
     "text": [
      "done\n"
     ]
    }
   ],
   "source": [
    "include(\"../one_electron_mpo.jl\")\n",
    "include(\"../../mpo.jl\")\n",
    "s = MolecularSystem()\n",
    "println(\"done\")"
   ]
  },
  {
   "cell_type": "code",
   "execution_count": 4,
   "id": "offshore-float",
   "metadata": {},
   "outputs": [],
   "source": [
    "oe_mpo = OneElectronMPO(3);"
   ]
  },
  {
   "cell_type": "code",
   "execution_count": 5,
   "id": "devoted-treasure",
   "metadata": {},
   "outputs": [
    {
     "data": {
      "text/latex": [
       "$\\begin{equation*}\\left[\\begin{matrix}I & t_{11} η\\end{matrix}\\right] \\left[\\begin{matrix}I & t_{22} η\\\\0 & I\\end{matrix}\\right] \\left[\\begin{matrix}t_{33} η\\\\I\\end{matrix}\\right]\\end{equation*}$\n"
      ],
      "text/plain": [
       "           ⎡I  t₂₂⋅η⎤ ⎡t₃₃⋅η⎤\n",
       "[I  t₁₁⋅η]⋅⎢        ⎥⋅⎢     ⎥\n",
       "           ⎣0    I  ⎦ ⎣  I  ⎦"
      ]
     },
     "metadata": {},
     "output_type": "display_data"
    },
    {
     "data": {
      "text/latex": [
       "$\\begin{equation*}\\left[\\begin{matrix}I & q_{11} ζ_↑^{L^†} & 0\\end{matrix}\\right] \\left[\\begin{matrix}I & q_{21} ζ_↑^{L^†} & 0\\\\0 & f & r_{12} ζ^{L}_{↑}\\\\0 & 0 & I\\end{matrix}\\right] \\left[\\begin{matrix}0\\\\r_{13} ζ^{L}_{↑}\\\\I\\end{matrix}\\right]\\end{equation*}$\n"
      ],
      "text/plain": [
       "                        ⎡I  q₂₁⋅ζ_↑__{L__†}      0     ⎤ ⎡    0     ⎤\n",
       "                        ⎢                              ⎥ ⎢          ⎥\n",
       "[I  q₁₁⋅ζ_↑__{L__†}  0]⋅⎢0         f         r₁₂⋅ζ_↑__L⎥⋅⎢r₁₃⋅ζ_↑__L⎥\n",
       "                        ⎢                              ⎥ ⎢          ⎥\n",
       "                        ⎣0         0             I     ⎦ ⎣    I     ⎦"
      ]
     },
     "metadata": {},
     "output_type": "display_data"
    },
    {
     "data": {
      "text/latex": [
       "$\\begin{equation*}\\left[\\begin{matrix}I & r_{11} ζ^{R}_{↑} & 0\\end{matrix}\\right] \\left[\\begin{matrix}I & r_{12} ζ^{R}_{↑} & 0\\\\0 & f & q_{21} ζ_↑^{R^†}\\\\0 & 0 & I\\end{matrix}\\right] \\left[\\begin{matrix}0\\\\q_{31} ζ_↑^{R^†}\\\\I\\end{matrix}\\right]\\end{equation*}$\n"
      ],
      "text/plain": [
       "                   ⎡I  r₁₂⋅ζ_↑__R         0       ⎤ ⎡       0       ⎤\n",
       "                   ⎢                              ⎥ ⎢               ⎥\n",
       "[I  r₁₁⋅ζ_↑__R  0]⋅⎢0      f       q₂₁⋅ζ_↑__{R__†}⎥⋅⎢q₃₁⋅ζ_↑__{R__†}⎥\n",
       "                   ⎢                              ⎥ ⎢               ⎥\n",
       "                   ⎣0      0              I       ⎦ ⎣       I       ⎦"
      ]
     },
     "metadata": {},
     "output_type": "display_data"
    },
    {
     "data": {
      "text/latex": [
       "$\\begin{equation*}\\left[\\begin{matrix}I & q_{11} ζ_↓^{L^†} & 0\\end{matrix}\\right] \\left[\\begin{matrix}I & q_{21} ζ_↓^{L^†} & 0\\\\0 & f & r_{12} ζ^{L}_{↓}\\\\0 & 0 & I\\end{matrix}\\right] \\left[\\begin{matrix}0\\\\r_{13} ζ^{L}_{↓}\\\\I\\end{matrix}\\right]\\end{equation*}$\n"
      ],
      "text/plain": [
       "                        ⎡I  q₂₁⋅ζ_↓__{L__†}      0     ⎤ ⎡    0     ⎤\n",
       "                        ⎢                              ⎥ ⎢          ⎥\n",
       "[I  q₁₁⋅ζ_↓__{L__†}  0]⋅⎢0         f         r₁₂⋅ζ_↓__L⎥⋅⎢r₁₃⋅ζ_↓__L⎥\n",
       "                        ⎢                              ⎥ ⎢          ⎥\n",
       "                        ⎣0         0             I     ⎦ ⎣    I     ⎦"
      ]
     },
     "metadata": {},
     "output_type": "display_data"
    },
    {
     "data": {
      "text/latex": [
       "$\\begin{equation*}\\left[\\begin{matrix}I & r_{11} ζ^{R}_{↓} & 0\\end{matrix}\\right] \\left[\\begin{matrix}I & r_{12} ζ^{R}_{↓} & 0\\\\0 & f & q_{21} ζ_↓^{R^†}\\\\0 & 0 & I\\end{matrix}\\right] \\left[\\begin{matrix}0\\\\q_{31} ζ_↓^{R^†}\\\\I\\end{matrix}\\right]\\end{equation*}$\n"
      ],
      "text/plain": [
       "                   ⎡I  r₁₂⋅ζ_↓__R         0       ⎤ ⎡       0       ⎤\n",
       "                   ⎢                              ⎥ ⎢               ⎥\n",
       "[I  r₁₁⋅ζ_↓__R  0]⋅⎢0      f       q₂₁⋅ζ_↓__{R__†}⎥⋅⎢q₃₁⋅ζ_↓__{R__†}⎥\n",
       "                   ⎢                              ⎥ ⎢               ⎥\n",
       "                   ⎣0      0              I       ⎦ ⎣       I       ⎦"
      ]
     },
     "metadata": {},
     "output_type": "display_data"
    },
    {
     "data": {
      "text/latex": [
       "$\\begin{equation*}\\left[\\begin{matrix}I & q_{12} ζ_↑^{L^†} & 0\\end{matrix}\\right] \\left[\\begin{matrix}I & q_{22} ζ_↑^{L^†} & 0\\\\0 & f & r_{22} ζ^{L}_{↑}\\\\0 & 0 & I\\end{matrix}\\right] \\left[\\begin{matrix}0\\\\r_{23} ζ^{L}_{↑}\\\\I\\end{matrix}\\right]\\end{equation*}$\n"
      ],
      "text/plain": [
       "                        ⎡I  q₂₂⋅ζ_↑__{L__†}      0     ⎤ ⎡    0     ⎤\n",
       "                        ⎢                              ⎥ ⎢          ⎥\n",
       "[I  q₁₂⋅ζ_↑__{L__†}  0]⋅⎢0         f         r₂₂⋅ζ_↑__L⎥⋅⎢r₂₃⋅ζ_↑__L⎥\n",
       "                        ⎢                              ⎥ ⎢          ⎥\n",
       "                        ⎣0         0             I     ⎦ ⎣    I     ⎦"
      ]
     },
     "metadata": {},
     "output_type": "display_data"
    },
    {
     "data": {
      "text/latex": [
       "$\\begin{equation*}\\left[\\begin{matrix}I & r_{21} ζ^{R}_{↑} & 0\\end{matrix}\\right] \\left[\\begin{matrix}I & r_{22} ζ^{R}_{↑} & 0\\\\0 & f & q_{22} ζ_↑^{R^†}\\\\0 & 0 & I\\end{matrix}\\right] \\left[\\begin{matrix}0\\\\q_{32} ζ_↑^{R^†}\\\\I\\end{matrix}\\right]\\end{equation*}$\n"
      ],
      "text/plain": [
       "                   ⎡I  r₂₂⋅ζ_↑__R         0       ⎤ ⎡       0       ⎤\n",
       "                   ⎢                              ⎥ ⎢               ⎥\n",
       "[I  r₂₁⋅ζ_↑__R  0]⋅⎢0      f       q₂₂⋅ζ_↑__{R__†}⎥⋅⎢q₃₂⋅ζ_↑__{R__†}⎥\n",
       "                   ⎢                              ⎥ ⎢               ⎥\n",
       "                   ⎣0      0              I       ⎦ ⎣       I       ⎦"
      ]
     },
     "metadata": {},
     "output_type": "display_data"
    },
    {
     "data": {
      "text/latex": [
       "$\\begin{equation*}\\left[\\begin{matrix}I & q_{12} ζ_↓^{L^†} & 0\\end{matrix}\\right] \\left[\\begin{matrix}I & q_{22} ζ_↓^{L^†} & 0\\\\0 & f & r_{22} ζ^{L}_{↓}\\\\0 & 0 & I\\end{matrix}\\right] \\left[\\begin{matrix}0\\\\r_{23} ζ^{L}_{↓}\\\\I\\end{matrix}\\right]\\end{equation*}$\n"
      ],
      "text/plain": [
       "                        ⎡I  q₂₂⋅ζ_↓__{L__†}      0     ⎤ ⎡    0     ⎤\n",
       "                        ⎢                              ⎥ ⎢          ⎥\n",
       "[I  q₁₂⋅ζ_↓__{L__†}  0]⋅⎢0         f         r₂₂⋅ζ_↓__L⎥⋅⎢r₂₃⋅ζ_↓__L⎥\n",
       "                        ⎢                              ⎥ ⎢          ⎥\n",
       "                        ⎣0         0             I     ⎦ ⎣    I     ⎦"
      ]
     },
     "metadata": {},
     "output_type": "display_data"
    },
    {
     "data": {
      "text/latex": [
       "$\\begin{equation*}\\left[\\begin{matrix}I & r_{21} ζ^{R}_{↓} & 0\\end{matrix}\\right] \\left[\\begin{matrix}I & r_{22} ζ^{R}_{↓} & 0\\\\0 & f & q_{22} ζ_↓^{R^†}\\\\0 & 0 & I\\end{matrix}\\right] \\left[\\begin{matrix}0\\\\q_{32} ζ_↓^{R^†}\\\\I\\end{matrix}\\right]\\end{equation*}$\n"
      ],
      "text/plain": [
       "                   ⎡I  r₂₂⋅ζ_↓__R         0       ⎤ ⎡       0       ⎤\n",
       "                   ⎢                              ⎥ ⎢               ⎥\n",
       "[I  r₂₁⋅ζ_↓__R  0]⋅⎢0      f       q₂₂⋅ζ_↓__{R__†}⎥⋅⎢q₃₂⋅ζ_↓__{R__†}⎥\n",
       "                   ⎢                              ⎥ ⎢               ⎥\n",
       "                   ⎣0      0              I       ⎦ ⎣       I       ⎦"
      ]
     },
     "metadata": {},
     "output_type": "display_data"
    },
    {
     "data": {
      "text/latex": [
       "$\\begin{equation*}\\left[\\begin{matrix}I & q_{13} ζ_↑^{L^†} & 0\\end{matrix}\\right] \\left[\\begin{matrix}I & q_{23} ζ_↑^{L^†} & 0\\\\0 & f & r_{32} ζ^{L}_{↑}\\\\0 & 0 & I\\end{matrix}\\right] \\left[\\begin{matrix}0\\\\r_{33} ζ^{L}_{↑}\\\\I\\end{matrix}\\right]\\end{equation*}$\n"
      ],
      "text/plain": [
       "                        ⎡I  q₂₃⋅ζ_↑__{L__†}      0     ⎤ ⎡    0     ⎤\n",
       "                        ⎢                              ⎥ ⎢          ⎥\n",
       "[I  q₁₃⋅ζ_↑__{L__†}  0]⋅⎢0         f         r₃₂⋅ζ_↑__L⎥⋅⎢r₃₃⋅ζ_↑__L⎥\n",
       "                        ⎢                              ⎥ ⎢          ⎥\n",
       "                        ⎣0         0             I     ⎦ ⎣    I     ⎦"
      ]
     },
     "metadata": {},
     "output_type": "display_data"
    },
    {
     "data": {
      "text/latex": [
       "$\\begin{equation*}\\left[\\begin{matrix}I & r_{31} ζ^{R}_{↑} & 0\\end{matrix}\\right] \\left[\\begin{matrix}I & r_{32} ζ^{R}_{↑} & 0\\\\0 & f & q_{23} ζ_↑^{R^†}\\\\0 & 0 & I\\end{matrix}\\right] \\left[\\begin{matrix}0\\\\q_{33} ζ_↑^{R^†}\\\\I\\end{matrix}\\right]\\end{equation*}$\n"
      ],
      "text/plain": [
       "                   ⎡I  r₃₂⋅ζ_↑__R         0       ⎤ ⎡       0       ⎤\n",
       "                   ⎢                              ⎥ ⎢               ⎥\n",
       "[I  r₃₁⋅ζ_↑__R  0]⋅⎢0      f       q₂₃⋅ζ_↑__{R__†}⎥⋅⎢q₃₃⋅ζ_↑__{R__†}⎥\n",
       "                   ⎢                              ⎥ ⎢               ⎥\n",
       "                   ⎣0      0              I       ⎦ ⎣       I       ⎦"
      ]
     },
     "metadata": {},
     "output_type": "display_data"
    },
    {
     "data": {
      "text/latex": [
       "$\\begin{equation*}\\left[\\begin{matrix}I & q_{13} ζ_↓^{L^†} & 0\\end{matrix}\\right] \\left[\\begin{matrix}I & q_{23} ζ_↓^{L^†} & 0\\\\0 & f & r_{32} ζ^{L}_{↓}\\\\0 & 0 & I\\end{matrix}\\right] \\left[\\begin{matrix}0\\\\r_{33} ζ^{L}_{↓}\\\\I\\end{matrix}\\right]\\end{equation*}$\n"
      ],
      "text/plain": [
       "                        ⎡I  q₂₃⋅ζ_↓__{L__†}      0     ⎤ ⎡    0     ⎤\n",
       "                        ⎢                              ⎥ ⎢          ⎥\n",
       "[I  q₁₃⋅ζ_↓__{L__†}  0]⋅⎢0         f         r₃₂⋅ζ_↓__L⎥⋅⎢r₃₃⋅ζ_↓__L⎥\n",
       "                        ⎢                              ⎥ ⎢          ⎥\n",
       "                        ⎣0         0             I     ⎦ ⎣    I     ⎦"
      ]
     },
     "metadata": {},
     "output_type": "display_data"
    },
    {
     "data": {
      "text/latex": [
       "$\\begin{equation*}\\left[\\begin{matrix}I & r_{31} ζ^{R}_{↓} & 0\\end{matrix}\\right] \\left[\\begin{matrix}I & r_{32} ζ^{R}_{↓} & 0\\\\0 & f & q_{23} ζ_↓^{R^†}\\\\0 & 0 & I\\end{matrix}\\right] \\left[\\begin{matrix}0\\\\q_{33} ζ_↓^{R^†}\\\\I\\end{matrix}\\right]\\end{equation*}$\n"
      ],
      "text/plain": [
       "                   ⎡I  r₃₂⋅ζ_↓__R         0       ⎤ ⎡       0       ⎤\n",
       "                   ⎢                              ⎥ ⎢               ⎥\n",
       "[I  r₃₁⋅ζ_↓__R  0]⋅⎢0      f       q₂₃⋅ζ_↓__{R__†}⎥⋅⎢q₃₃⋅ζ_↓__{R__†}⎥\n",
       "                   ⎢                              ⎥ ⎢               ⎥\n",
       "                   ⎣0      0              I       ⎦ ⎣       I       ⎦"
      ]
     },
     "metadata": {},
     "output_type": "display_data"
    }
   ],
   "source": [
    "[display(mpo) for mpo in oe_mpo.mpos];"
   ]
  },
  {
   "cell_type": "code",
   "execution_count": 6,
   "id": "employed-olympus",
   "metadata": {},
   "outputs": [],
   "source": [
    "t = rand(3, 3)\n",
    "q, r = qr(t)\n",
    "\n",
    "symbol_dict = to_symbols(t, \"t\")\n",
    "to_symbols!(symbol_dict, collect(q), \"q\")\n",
    "to_symbols!(symbol_dict, collect(r), \"r\")\n",
    "\n",
    "tensor_mpo = MPO(oe_mpo.mpos[1], s, symbol_dict);"
   ]
  },
  {
   "cell_type": "code",
   "execution_count": 8,
   "id": "fleet-multiple",
   "metadata": {},
   "outputs": [
    {
     "data": {
      "text/plain": [
       "3-element Array{Array{Float64,N} where N,1}:\n",
       " [1.0 0.0 0.0 0.0; 0.0 1.0 0.0 0.0; 0.0 0.0 1.0 0.0; 0.0 0.0 0.0 1.0]\n",
       "\n",
       "[0.0 0.0 0.0 0.0; 0.0 0.6875238427565464 0.0 0.0; 0.0 0.0 0.6875238427565464 0.0; 0.0 0.0 0.0 -1.3750476855130929]\n",
       " [1.0 0.0 0.0 0.0; 0.0 1.0 0.0 0.0; 0.0 0.0 1.0 0.0; 0.0 0.0 0.0 1.0]\n",
       "\n",
       "[0.0 0.0 0.0 0.0; 0.0 0.0 0.0 0.0; 0.0 0.0 0.0 0.0; 0.0 0.0 0.0 0.0]\n",
       "\n",
       "[0.0 0.0 0.0 0.0; 0.0 0.8426932376366045 0.0 0.0; 0.0 0.0 0.8426932376366045 0.0; 0.0 0.0 0.0 -1.685386475273209]\n",
       "\n",
       "[1.0 0.0 0.0 0.0; 0.0 1.0 0.0 0.0; 0.0 0.0 1.0 0.0; 0.0 0.0 0.0 1.0]\n",
       " [0.0 0.0 0.0 0.0; 0.0 0.4901245799897851 0.0 0.0; 0.0 0.0 0.4901245799897851 0.0; 0.0 0.0 0.0 -0.9802491599795702]\n",
       "\n",
       "[1.0 0.0 0.0 0.0; 0.0 1.0 0.0 0.0; 0.0 0.0 1.0 0.0; 0.0 0.0 0.0 1.0]"
      ]
     },
     "metadata": {},
     "output_type": "display_data"
    },
    {
     "data": {
      "text/plain": []
     },
     "execution_count": 8,
     "metadata": {},
     "output_type": "execute_result"
    }
   ],
   "source": [
    "tensor_mpo"
   ]
  },
  {
   "cell_type": "code",
   "execution_count": null,
   "id": "figured-carter",
   "metadata": {},
   "outputs": [],
   "source": []
  }
 ],
 "metadata": {
  "kernelspec": {
   "display_name": "Julia 1.5.3",
   "language": "julia",
   "name": "julia-1.5"
  },
  "language_info": {
   "file_extension": ".jl",
   "mimetype": "application/julia",
   "name": "julia",
   "version": "1.5.3"
  }
 },
 "nbformat": 4,
 "nbformat_minor": 5
}
